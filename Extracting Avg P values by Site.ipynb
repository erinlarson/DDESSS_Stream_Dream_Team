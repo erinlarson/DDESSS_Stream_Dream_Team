{
 "cells": [
  {
   "cell_type": "code",
   "execution_count": 1,
   "metadata": {
    "collapsed": false
   },
   "outputs": [
    {
     "name": "stderr",
     "output_type": "stream",
     "text": [
      "\n",
      "Attaching package: ‘dplyr’\n",
      "\n",
      "The following objects are masked from ‘package:stats’:\n",
      "\n",
      "    filter, lag\n",
      "\n",
      "The following objects are masked from ‘package:base’:\n",
      "\n",
      "    intersect, setdiff, setequal, union\n",
      "\n"
     ]
    }
   ],
   "source": [
    "setwd('/Users/erinlarson/Dropbox/Documents/GIT/DDESSS_Stream_Dream_Team')\n",
    "\n",
    "data<-read.csv(\"WorkingDataSet.csv\")\n",
    "\n",
    "library(\"dplyr\")"
   ]
  },
  {
   "cell_type": "code",
   "execution_count": 2,
   "metadata": {
    "collapsed": false,
    "scrolled": true
   },
   "outputs": [
    {
     "data": {
      "text/html": [
       "<table>\n",
       "<thead><tr><th></th><th scope=col>1</th></tr></thead>\n",
       "<tbody>\n",
       "\t<tr><th scope=row>X</th><td>1                   </td></tr>\n",
       "\t<tr><th scope=row>ResultMeasure2</th><td>0                   </td></tr>\n",
       "\t<tr><th scope=row>STRAHLER2</th><td>2.4                 </td></tr>\n",
       "\t<tr><th scope=row>DrainageAreaMeasure_MeasureValue</th><td>195                 </td></tr>\n",
       "\t<tr><th scope=row>HUCEightDigitCode</th><td>15060103            </td></tr>\n",
       "\t<tr><th scope=row>date</th><td>2001-02-07T00:00:00Z</td></tr>\n",
       "\t<tr><th scope=row>ResultSampleFractionText</th><td>Total               </td></tr>\n",
       "\t<tr><th scope=row>PFOR2</th><td>73.918              </td></tr>\n",
       "\t<tr><th scope=row>PWETL2</th><td>0.01                </td></tr>\n",
       "\t<tr><th scope=row>PURB2</th><td>0.132               </td></tr>\n",
       "\t<tr><th scope=row>PAGT2</th><td>0.076               </td></tr>\n",
       "\t<tr><th scope=row>LatitudeMeasure</th><td>33.57311            </td></tr>\n",
       "\t<tr><th scope=row>LongitudeMeasure</th><td>-110.9012           </td></tr>\n",
       "\t<tr><th scope=row>MonitoringLocationIdentifier</th><td>USGS-09498400       </td></tr>\n",
       "</tbody>\n",
       "</table>\n"
      ],
      "text/latex": [
       "\\begin{tabular}{r|l}\n",
       "  & 1\\\\\n",
       "\\hline\n",
       "\tX & 1                   \\\\\n",
       "\tResultMeasure2 & 0                   \\\\\n",
       "\tSTRAHLER2 & 2.4                 \\\\\n",
       "\tDrainageAreaMeasure\\_MeasureValue & 195                 \\\\\n",
       "\tHUCEightDigitCode & 15060103            \\\\\n",
       "\tdate & 2001-02-07T00:00:00Z\\\\\n",
       "\tResultSampleFractionText & Total               \\\\\n",
       "\tPFOR2 & 73.918              \\\\\n",
       "\tPWETL2 & 0.01                \\\\\n",
       "\tPURB2 & 0.132               \\\\\n",
       "\tPAGT2 & 0.076               \\\\\n",
       "\tLatitudeMeasure & 33.57311            \\\\\n",
       "\tLongitudeMeasure & -110.9012           \\\\\n",
       "\tMonitoringLocationIdentifier & USGS-09498400       \\\\\n",
       "\\end{tabular}\n"
      ],
      "text/markdown": [
       "\n",
       "| <!--/--> | 1 | \n",
       "|---|---|---|---|---|---|---|---|---|---|---|---|---|---|\n",
       "| X | 1                    | \n",
       "| ResultMeasure2 | 0                    | \n",
       "| STRAHLER2 | 2.4                  | \n",
       "| DrainageAreaMeasure_MeasureValue | 195                  | \n",
       "| HUCEightDigitCode | 15060103             | \n",
       "| date | 2001-02-07T00:00:00Z | \n",
       "| ResultSampleFractionText | Total                | \n",
       "| PFOR2 | 73.918               | \n",
       "| PWETL2 | 0.01                 | \n",
       "| PURB2 | 0.132                | \n",
       "| PAGT2 | 0.076                | \n",
       "| LatitudeMeasure | 33.57311             | \n",
       "| LongitudeMeasure | -110.9012            | \n",
       "| MonitoringLocationIdentifier | USGS-09498400        | \n",
       "\n",
       "\n"
      ],
      "text/plain": [
       "                                 1                   \n",
       "X                                1                   \n",
       "ResultMeasure2                   0                   \n",
       "STRAHLER2                        2.4                 \n",
       "DrainageAreaMeasure_MeasureValue 195                 \n",
       "HUCEightDigitCode                15060103            \n",
       "date                             2001-02-07T00:00:00Z\n",
       "ResultSampleFractionText         Total               \n",
       "PFOR2                            73.918              \n",
       "PWETL2                           0.01                \n",
       "PURB2                            0.132               \n",
       "PAGT2                            0.076               \n",
       "LatitudeMeasure                  33.57311            \n",
       "LongitudeMeasure                 -110.9012           \n",
       "MonitoringLocationIdentifier     USGS-09498400       "
      ]
     },
     "metadata": {},
     "output_type": "display_data"
    }
   ],
   "source": [
    "t(data[1,])"
   ]
  },
  {
   "cell_type": "code",
   "execution_count": 3,
   "metadata": {
    "collapsed": false
   },
   "outputs": [],
   "source": [
    "TotalP <-subset(data, ResultSampleFractionText==\"Total\")\n",
    "\n",
    "group_by(TotalP, MonitoringLocationIdentifier) %>% \n",
    "    summarise(AvgTotal_P = mean(ResultMeasure2, na.rm = TRUE),\n",
    "              SDTotal_P = sd(ResultMeasure2, na.rm = TRUE),\n",
    "              PFOR2 = mean(PFOR2, na.rm=TRUE),\n",
    "             Lat = mean(LatitudeMeasure, na.rm = TRUE),\n",
    "              Long = mean(LongitudeMeasure, na.rm=TRUE)\n",
    "             ) %>% write.csv(\"Avg_TotalP_LatLong.csv\")"
   ]
  },
  {
   "cell_type": "code",
   "execution_count": null,
   "metadata": {
    "collapsed": true
   },
   "outputs": [],
   "source": [
    "TDP <-subset(data, ResultSampleFractionText==\"Total\")\n",
    "\n",
    "group_by(TotalP, MonitoringLocationIdentifier) %>% \n",
    "    summarise(AvgTotal_P = mean(ResultMeasure2, na.rm = TRUE),\n",
    "              SDTotal_P = sd(ResultMeasure2, na.rm = TRUE),\n",
    "             Lat = mean(LatitudeMeasure, na.rm = TRUE),\n",
    "              Long = mean(LongitudeMeasure, na.rm=TRUE)\n",
    "             ) %>% write.csv(\"Avg_TotalP_LatLong.csv\")"
   ]
  }
 ],
 "metadata": {
  "kernelspec": {
   "display_name": "R",
   "language": "R",
   "name": "ir"
  },
  "language_info": {
   "codemirror_mode": "r",
   "file_extension": ".r",
   "mimetype": "text/x-r-source",
   "name": "R",
   "pygments_lexer": "r",
   "version": "3.3.1"
  }
 },
 "nbformat": 4,
 "nbformat_minor": 2
}
