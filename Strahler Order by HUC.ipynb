{
 "cells": [
  {
   "cell_type": "code",
   "execution_count": null,
   "metadata": {
    "collapsed": true
   },
   "outputs": [],
   "source": [
    "setwd('/Users/erinlarson/Dropbox/Documents/GIT/DDESSS_Stream_Dream_Team')\n",
    "\n",
    "install.packages(\"dplyr\")\n",
    "library(dplyr)\n",
    "group_by(landuse_data, HUC8) %>% \n",
    "    summarise(STRAHLER2 = mean(STRAHLER, na.rm = TRUE)) %>% write.csv(\"StrahlerOrder.csv\")\n",
    "\n",
    "head(averages)\n"
   ]
  },
  {
   "cell_type": "code",
   "execution_count": null,
   "metadata": {
    "collapsed": true
   },
   "outputs": [],
   "source": [
    "landuse_data<-read.csv(\"LandUsetoPhosphorusMerge1_SQL-csv.csv\")\n",
    "landuse_data<-data.frame(landuse_data)"
   ]
  }
 ],
 "metadata": {
  "kernelspec": {
   "display_name": "R",
   "language": "R",
   "name": "ir"
  },
  "language_info": {
   "codemirror_mode": "r",
   "file_extension": ".r",
   "mimetype": "text/x-r-source",
   "name": "R",
   "pygments_lexer": "r",
   "version": "3.3.1"
  }
 },
 "nbformat": 4,
 "nbformat_minor": 2
}
